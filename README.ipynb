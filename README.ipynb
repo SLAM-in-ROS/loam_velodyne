{
 "cells": [
  {
   "cell_type": "markdown",
   "metadata": {},
   "source": [
    "![Screenshot](/capture.bmp)\n",
    "Sample map built from [nsh_indoor_outdoor.bag](http://www.frc.ri.cmu.edu/~jizhang03/Datasets/nsh_indoor_outdoor.bag) (opened with [ccViewer](http://www.danielgm.net/cc/))\n",
    "\n",
    ":white_check_mark: Tested with ROS Indigo and Velodyne VLP16. [(Screencast)](https://youtu.be/o1cLXY-Es54)\n",
    "\n",
    "All sources were taken from [ROS documentation](http://docs.ros.org/indigo/api/loam_velodyne/html/files.html)\n",
    "\n",
    "Ask questions [here](https://github.com/laboshinl/loam_velodyne/issues/3).\n",
    "\n",
    "How to build with catkin:"
   ]
  },
  {
   "cell_type": "code",
   "execution_count": null,
   "metadata": {},
   "outputs": [],
   "source": [
    "$ cd ~/catkin_ws/src/\n",
    "$ git clone https://github.com/laboshinl/loam_velodyne.git\n",
    "$ cd ~/catkin_ws\n",
    "$ catkin_make -DCMAKE_BUILD_TYPE=Release \n",
    "$ source ~/catkin_ws/devel/setup.bash"
   ]
  },
  {
   "cell_type": "markdown",
   "metadata": {},
   "source": [
    "Running:"
   ]
  },
  {
   "cell_type": "code",
   "execution_count": null,
   "metadata": {},
   "outputs": [],
   "source": [
    "roslaunch loam_velodyne loam_velodyne.launch"
   ]
  },
  {
   "cell_type": "markdown",
   "metadata": {},
   "source": [
    "In second terminal play sample velodyne data from [VLP16 rosbag](https://db.tt/t2r39mjZ):"
   ]
  },
  {
   "cell_type": "code",
   "execution_count": null,
   "metadata": {},
   "outputs": [],
   "source": [
    "rosbag play ~/Downloads/velodyne.bag "
   ]
  },
  {
   "cell_type": "markdown",
   "metadata": {},
   "source": [
    "Or read from velodyne [VLP16 sample pcap](https://midas3.kitware.com/midas/folder/12979):"
   ]
  },
  {
   "cell_type": "code",
   "execution_count": null,
   "metadata": {},
   "outputs": [],
   "source": [
    "roslaunch velodyne_pointcloud VLP16_points.launch pcap:=\"/home/laboshinl/Downloads/velodyne.pcap\""
   ]
  },
  {
   "cell_type": "markdown",
   "metadata": {},
   "source": [
    "---\n",
    "[Quantifying Aerial LiDAR Accuracy of LOAM for Civil Engineering Applications.](https://ceen.et.byu.edu/sites/default/files/snrprojects/wolfe_derek.pdf) Derek Anthony Wolfe\n",
    "\n",
    "[ROS & Loam_velodyne](https://ishiguro440.wordpress.com/2016/04/05/%E5%82%99%E5%BF%98%E9%8C%B2%E3%80%80ros-loam_velodyne/)"
   ]
  }
 ],
 "metadata": {
  "kernelspec": {
   "display_name": "Bash",
   "language": "bash",
   "name": "bash"
  },
  "language_info": {
   "codemirror_mode": "shell",
   "file_extension": ".sh",
   "mimetype": "text/x-sh",
   "name": "bash"
  }
 },
 "nbformat": 4,
 "nbformat_minor": 2
}
